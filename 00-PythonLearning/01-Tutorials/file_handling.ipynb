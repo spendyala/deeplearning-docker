{
 "cells": [
  {
   "cell_type": "code",
   "execution_count": null,
   "metadata": {},
   "outputs": [],
   "source": [
    "file_descriptor = open('smallwikipedia.csv', 'r')\n",
    "file_data = file_descriptor.read()\n",
    "file_descriptor.close()"
   ]
  },
  {
   "cell_type": "code",
   "execution_count": null,
   "metadata": {},
   "outputs": [],
   "source": [
    "# print(file_data)"
   ]
  },
  {
   "cell_type": "code",
   "execution_count": null,
   "metadata": {},
   "outputs": [],
   "source": [
    "file_descriptor = open('smallwikipedia.csv', 'r')\n",
    "while True:\n",
    "    file_data_line = file_descriptor.readline()\n",
    "    if file_data_line:\n",
    "        print(file_data_line)\n",
    "    else:\n",
    "        break\n",
    "file_descriptor.close()"
   ]
  },
  {
   "cell_type": "code",
   "execution_count": null,
   "metadata": {},
   "outputs": [],
   "source": [
    "file_descriptor = open('smallwikipedia.csv', 'r')\n",
    "file_data_lines = file_descriptor.readlines()\n",
    "print(file_data_lines)\n",
    "file_descriptor.close()"
   ]
  },
  {
   "cell_type": "code",
   "execution_count": null,
   "metadata": {},
   "outputs": [],
   "source": [
    "with open('/Users/vpendyala/Downloads/smallwikipedia.csv', 'r') as file_descriptor:\n",
    "    file_data_lines = file_descriptor.readlines()\n",
    "    for each_line in file_data_lines:\n",
    "        print(each_line, end='')\n",
    "        each_list = each_line[:-1].split(';')\n",
    "        print(each_list)\n"
   ]
  },
  {
   "cell_type": "code",
   "execution_count": null,
   "metadata": {},
   "outputs": [],
   "source": [
    "a = 'Hello World\\n'"
   ]
  },
  {
   "cell_type": "code",
   "execution_count": null,
   "metadata": {},
   "outputs": [],
   "source": [
    "a"
   ]
  },
  {
   "cell_type": "code",
   "execution_count": null,
   "metadata": {},
   "outputs": [],
   "source": [
    "a[:-1]"
   ]
  },
  {
   "cell_type": "code",
   "execution_count": null,
   "metadata": {},
   "outputs": [],
   "source": [
    "with open('test_data.csv', 'w') as file_descriptor:\n",
    "    for num in range(0, 10):\n",
    "        file_descriptor.write('%s,%s,\"%s\"\\n' % (num, bin(num), 'Hai, srinu'))"
   ]
  },
  {
   "cell_type": "code",
   "execution_count": null,
   "metadata": {},
   "outputs": [],
   "source": [
    "bin(10)"
   ]
  },
  {
   "cell_type": "code",
   "execution_count": null,
   "metadata": {},
   "outputs": [],
   "source": [
    "import csv\n",
    "with open('sample_data.csv', 'w') as sample_csv:\n",
    "    csv_obj = csv.writer(sample_csv, delimiter=',')\n",
    "    for num in range(0, 10):\n",
    "        csv_obj.writerow([num, bin(num), 'Hai,\\t srinu'])"
   ]
  },
  {
   "cell_type": "code",
   "execution_count": null,
   "metadata": {},
   "outputs": [],
   "source": [
    "import csv \n",
    "with open('smallwikipedia.csv', 'r') as smallwikipedia:\n",
    "    csv_object = csv.reader(smallwikipedia, delimiter=';')\n",
    "    for each in csv_object:\n",
    "        print(each)"
   ]
  },
  {
   "cell_type": "code",
   "execution_count": null,
   "metadata": {},
   "outputs": [],
   "source": [
    "import arrow"
   ]
  },
  {
   "cell_type": "code",
   "execution_count": null,
   "metadata": {},
   "outputs": [],
   "source": [
    "print(arrow.utcnow())"
   ]
  },
  {
   "cell_type": "code",
   "execution_count": null,
   "metadata": {},
   "outputs": [],
   "source": [
    "arrow.get('15/04/2005 07:33', 'DD/MM/YYYY HH:mm')"
   ]
  },
  {
   "cell_type": "code",
   "execution_count": null,
   "metadata": {},
   "outputs": [],
   "source": [
    "import datetime"
   ]
  },
  {
   "cell_type": "code",
   "execution_count": null,
   "metadata": {},
   "outputs": [],
   "source": [
    "datetime.datetime.now()"
   ]
  },
  {
   "cell_type": "code",
   "execution_count": null,
   "metadata": {},
   "outputs": [],
   "source": [
    "datetime.datetime.utcnow()"
   ]
  },
  {
   "cell_type": "code",
   "execution_count": null,
   "metadata": {},
   "outputs": [],
   "source": [
    "datetime_obj = datetime.datetime.utcnow()"
   ]
  },
  {
   "cell_type": "code",
   "execution_count": null,
   "metadata": {},
   "outputs": [],
   "source": [
    "print(datetime_obj)"
   ]
  },
  {
   "cell_type": "code",
   "execution_count": null,
   "metadata": {},
   "outputs": [],
   "source": [
    "datetime_obj.strftime('%d/%m/%Y %H:%M')"
   ]
  },
  {
   "cell_type": "code",
   "execution_count": null,
   "metadata": {
    "scrolled": false
   },
   "outputs": [],
   "source": [
    "import csv \n",
    "with open('smallwikipedia.csv', 'r') as smallwikipedia:\n",
    "    csv_object = csv.DictReader(smallwikipedia, delimiter=';')\n",
    "    for each in csv_object:\n",
    "        if each.get('Name') == 'Bonnet_phrygien':\n",
    "            print(each)"
   ]
  },
  {
   "cell_type": "code",
   "execution_count": null,
   "metadata": {},
   "outputs": [],
   "source": [
    "end_date = datetime.datetime.now()"
   ]
  },
  {
   "cell_type": "code",
   "execution_count": null,
   "metadata": {},
   "outputs": [],
   "source": [
    "end_date"
   ]
  },
  {
   "cell_type": "code",
   "execution_count": null,
   "metadata": {},
   "outputs": [],
   "source": [
    "# For example we need some time delta of 2 days \n",
    "start_date = end_date - datetime.timedelta(days=16*365)"
   ]
  },
  {
   "cell_type": "code",
   "execution_count": null,
   "metadata": {},
   "outputs": [],
   "source": [
    "start_date, end_date"
   ]
  },
  {
   "cell_type": "code",
   "execution_count": null,
   "metadata": {},
   "outputs": [],
   "source": [
    "# Date format in csv \"16/12/2004 11:26\" is in string format\n",
    "# we want to convert to python datetime object\n",
    "\n",
    "example_datetime = datetime.datetime.strptime(\n",
    "    '31/12/2004 11:26', '%d/%m/%Y %H:%M')\n"
   ]
  },
  {
   "cell_type": "code",
   "execution_count": null,
   "metadata": {},
   "outputs": [],
   "source": [
    "example_datetime"
   ]
  },
  {
   "cell_type": "code",
   "execution_count": null,
   "metadata": {},
   "outputs": [],
   "source": [
    "if start_date < example_datetime < end_date:\n",
    "    print(f'{example_datetime} is in between {start_date} and {end_date}')"
   ]
  },
  {
   "cell_type": "code",
   "execution_count": null,
   "metadata": {},
   "outputs": [],
   "source": [
    "example2_datetime = datetime.datetime.strptime(\n",
    "    '16/12/2019 11:26', '%d/%m/%Y %H:%M')"
   ]
  },
  {
   "cell_type": "code",
   "execution_count": null,
   "metadata": {},
   "outputs": [],
   "source": [
    "if start_date < example2_datetime < end_date:\n",
    "    print(f'{example_datetime} is in between {start_date} and {end_date}')\n",
    "else:\n",
    "    print(f'{example_datetime} is not in between {start_date} and {end_date}')"
   ]
  },
  {
   "cell_type": "code",
   "execution_count": null,
   "metadata": {},
   "outputs": [],
   "source": [
    "import csv\n",
    "import datetime\n",
    "\n",
    "PAST_DAYS = 7\n",
    "\n",
    "fieldnames = ['User', 'Name', 'Date', 'changes']\n",
    "# end_date = datetime.datetime.now()\n",
    "end_date = datetime.datetime(2005, 4, 20)\n",
    "start_date = end_date - datetime.timedelta(days=PAST_DAYS)\n",
    "total_count = 0\n",
    "range_records_count = 0\n",
    "with open('output.csv', 'w') as output_file:\n",
    "    output_file_csv = csv.DictWriter(output_file, fieldnames=fieldnames)\n",
    "    output_file_csv.writeheader()\n",
    "    with open('smallwikipedia.csv', 'r') as smallwikipedia:\n",
    "        csv_object = csv.DictReader(smallwikipedia, delimiter=';')\n",
    "        for each in csv_object:\n",
    "            try:\n",
    "#                 print(each)\n",
    "#                 print(each.get('Date'))\n",
    "                total_count += 1\n",
    "                date_obj = datetime.datetime.strptime(\n",
    "                    each.get('Date'), '%d/%m/%Y %H:%M')\n",
    "                if start_date < date_obj < end_date:\n",
    "                    range_records_count += 1\n",
    "                    output_file_csv.writerow(each)\n",
    "            except Exception:\n",
    "                continue\n",
    "print(f'Total count: {total_count}')\n",
    "print(f'Range count: {range_records_count}')\n",
    "        "
   ]
  },
  {
   "cell_type": "code",
   "execution_count": null,
   "metadata": {},
   "outputs": [],
   "source": [
    "'a'"
   ]
  },
  {
   "cell_type": "code",
   "execution_count": null,
   "metadata": {},
   "outputs": [],
   "source": [
    "ord('a')"
   ]
  },
  {
   "cell_type": "code",
   "execution_count": null,
   "metadata": {},
   "outputs": [],
   "source": [
    "ord('b')"
   ]
  },
  {
   "cell_type": "code",
   "execution_count": null,
   "metadata": {},
   "outputs": [],
   "source": [
    "ord('z')"
   ]
  },
  {
   "cell_type": "code",
   "execution_count": null,
   "metadata": {},
   "outputs": [],
   "source": [
    "ord('A'), ord('Z'), ord('0'), ord('9')"
   ]
  },
  {
   "cell_type": "code",
   "execution_count": null,
   "metadata": {},
   "outputs": [],
   "source": [
    "chr(65)"
   ]
  },
  {
   "cell_type": "code",
   "execution_count": null,
   "metadata": {},
   "outputs": [],
   "source": [
    "chr(111)"
   ]
  },
  {
   "cell_type": "code",
   "execution_count": null,
   "metadata": {},
   "outputs": [],
   "source": [
    "for idx, val in enumerate(['hai', 'hello', 'srinu']):\n",
    "    print(idx, val)"
   ]
  },
  {
   "cell_type": "code",
   "execution_count": null,
   "metadata": {},
   "outputs": [],
   "source": []
  }
 ],
 "metadata": {
  "kernelspec": {
   "display_name": "Python 3",
   "language": "python",
   "name": "python3"
  },
  "language_info": {
   "codemirror_mode": {
    "name": "ipython",
    "version": 3
   },
   "file_extension": ".py",
   "mimetype": "text/x-python",
   "name": "python",
   "nbconvert_exporter": "python",
   "pygments_lexer": "ipython3",
   "version": "3.7.3"
  }
 },
 "nbformat": 4,
 "nbformat_minor": 2
}
